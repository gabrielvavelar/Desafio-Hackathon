{
 "cells": [
  {
   "cell_type": "markdown",
   "id": "53f11551",
   "metadata": {},
   "source": [
    "# Desafio Python"
   ]
  },
  {
   "cell_type": "markdown",
   "id": "5ed501cc",
   "metadata": {},
   "source": [
    "## Etapa 1"
   ]
  },
  {
   "cell_type": "markdown",
   "id": "8795f0c2",
   "metadata": {},
   "source": [
    "### Importação das bibliotecas"
   ]
  },
  {
   "cell_type": "code",
   "execution_count": null,
   "id": "1595529d",
   "metadata": {},
   "outputs": [],
   "source": [
    "import pandas as pd\n",
    "import matplotlib.pyplot as plt\n",
    "from sqlalchemy import create_engine"
   ]
  },
  {
   "cell_type": "markdown",
   "id": "3e70efc7",
   "metadata": {},
   "source": [
    "## Etapa 2"
   ]
  },
  {
   "cell_type": "markdown",
   "id": "cea816f2",
   "metadata": {},
   "source": [
    "### Leitura do dataset e remoção de linhas duplicadas"
   ]
  },
  {
   "cell_type": "code",
   "execution_count": null,
   "id": "a472e833",
   "metadata": {},
   "outputs": [],
   "source": [
    "df = pd.read_csv('googleplaystore.csv')\n",
    "df = df.drop_duplicates()"
   ]
  },
  {
   "cell_type": "markdown",
   "id": "862e9345",
   "metadata": {},
   "source": [
    "### 5 aplicativos com maior número de instalações"
   ]
  },
  {
   "cell_type": "code",
   "execution_count": null,
   "id": "bf081081",
   "metadata": {},
   "outputs": [],
   "source": [
    "# Limpa a coluna 'Installs' removendo ',' e '+' e converte para número\n",
    "df['Installs'] = df['Installs'].astype(str).str.replace(',', '').str.replace('+', '')\n",
    "df['Installs'] = pd.to_numeric(df['Installs'], errors='coerce')\n",
    "\n",
    "# Remove duplicatas mantendo apenas a versão com mais instalações\n",
    "df_sem_duplicados = df.sort_values(by='Installs', ascending=False).drop_duplicates(subset='App', keep='first')\n",
    "\n",
    "# Seleciona os 5 apps mais instalados\n",
    "cinco_apps_mais_instalados = df_sem_duplicados.head(5)\n",
    "\n",
    "# Exibe gráfico de barras com os dados\n",
    "plt.figure(figsize=(10,6))\n",
    "plt.bar(cinco_apps_mais_instalados['App'], cinco_apps_mais_instalados['Installs'], color='skyblue')\n",
    "plt.title('5 Aplicativos Mais Instalados')\n",
    "plt.xlabel('Aplicativo')\n",
    "plt.ylabel('Número de Instalações')\n",
    "plt.tight_layout()\n",
    "plt.show()"
   ]
  },
  {
   "cell_type": "markdown",
   "id": "ba0122aa",
   "metadata": {},
   "source": [
    "### Gráfico de pizza com as categorias de apps e frequência de ocorrência."
   ]
  },
  {
   "cell_type": "code",
   "execution_count": null,
   "id": "cce79203",
   "metadata": {},
   "outputs": [],
   "source": [
    "# Conta a quantidade de apps por categoria\n",
    "contagem_categori = df['Category'].value_counts()\n",
    "\n",
    "# Gráfico de pizza das categorias\n",
    "plt.figure(figsize=(35, 35))\n",
    "plt.pie(\n",
    "    contagem_categori,\n",
    "    labels=contagem_categori.index,\n",
    "    autopct='%1.1f%%',\n",
    "    startangle=140,\n",
    "    textprops={'fontsize': 18}\n",
    ")\n",
    "plt.axis('equal')\n",
    "plt.tight_layout()\n",
    "plt.show()\n"
   ]
  },
  {
   "cell_type": "markdown",
   "id": "91c21a7e",
   "metadata": {},
   "source": [
    "### Aplicativo mais caro"
   ]
  },
  {
   "cell_type": "code",
   "execution_count": null,
   "id": "7ed5e4af",
   "metadata": {},
   "outputs": [],
   "source": [
    "# Remove o símbolo \"$\" na coluna 'Price'\n",
    "df['Price'] = df['Price'].astype(str).str.replace('$', '')\n",
    "\n",
    "# Garante que a coluna 'Price' é numérica\n",
    "df['Price'] = pd.to_numeric(df['Price'], errors='coerce')\n",
    "\n",
    "# Encontra o app mais caro\n",
    "app_mais_caro = df[['App', 'Price']].loc[df['Price'].idxmax()]\n",
    "\n",
    "# Imprime resultados\n",
    "print(f\"Nome: {app_mais_caro['App']}\")\n",
    "print(f\"Preço: {app_mais_caro['Price']}$\")"
   ]
  },
  {
   "cell_type": "markdown",
   "id": "59fa79d2",
   "metadata": {},
   "source": [
    "### Número de apps classificados como \"Mature 17+"
   ]
  },
  {
   "cell_type": "code",
   "execution_count": null,
   "id": "a41d2942",
   "metadata": {},
   "outputs": [],
   "source": [
    "# Conta quantos apps têm classificação 'Mature 17+'\n",
    "num_mature = df['Content Rating'].value_counts().get('Mature 17+', 0)\n",
    "\n",
    "# Exibe o resultado\n",
    "print(f\"Número de apps classificados como 'Mature 17+': {num_mature}\")\n"
   ]
  },
  {
   "cell_type": "markdown",
   "id": "9cfe91f2",
   "metadata": {},
   "source": [
    "### Número de reviews dos 10 apps mais avaliados"
   ]
  },
  {
   "cell_type": "code",
   "execution_count": null,
   "id": "fa0e891a",
   "metadata": {},
   "outputs": [],
   "source": [
    "# Garante que a coluna 'Reviews' é numérica\n",
    "df['Reviews'] = pd.to_numeric(df['Reviews'], errors='coerce')\n",
    "\n",
    "# Remove apps duplicados\n",
    "df_sem_duplicados = df.sort_values(by='Reviews', ascending=False).drop_duplicates(subset='App', keep='first')\n",
    "\n",
    "# Seleciona os 10 apps com mais reviews\n",
    "dez_app_mais_reviews = df_sem_duplicados[['App', 'Reviews']].sort_values(by='Reviews', ascending=False).head(10)\n",
    "\n",
    "# Imprime resultados\n",
    "for i, row in dez_app_mais_reviews.iterrows():\n",
    "    print(f\"Nome: {row['App']} | Número de reviews: {int(row['Reviews']):,} \\n\")"
   ]
  },
  {
   "cell_type": "markdown",
   "id": "16fd72ab",
   "metadata": {},
   "source": [
    "### Proporção número de apps gratis e apps pagos"
   ]
  },
  {
   "cell_type": "code",
   "execution_count": null,
   "id": "eced98d8",
   "metadata": {},
   "outputs": [],
   "source": [
    "df['Type'] = df['Type'].astype(str).str.strip()\n",
    "df = df[df['Type'].isin(['Free', 'Paid'])]\n",
    "\n",
    "contagem_tipos = df['Type'].value_counts()\n",
    "print(f\"Contagem de apps gratuitos e pagos:\\n{contagem_tipos}\")"
   ]
  },
  {
   "cell_type": "code",
   "execution_count": null,
   "id": "9fa7050d",
   "metadata": {},
   "outputs": [],
   "source": [
    "# Cria gráfico de pizza\n",
    "plt.figure(figsize=(6, 6))\n",
    "plt.pie(\n",
    "    contagem_tipos,\n",
    "    labels=contagem_tipos.index,\n",
    "    autopct='%1.1f%%',\n",
    "    startangle=100,\n",
    "    colors=['lightgreen', 'lightsalmon']\n",
    ")\n",
    "plt.title('Proporção de Apps Gratuitos e Pagos')\n",
    "plt.axis('equal')\n",
    "plt.tight_layout()\n",
    "plt.show()"
   ]
  },
  {
   "cell_type": "markdown",
   "id": "86c74cf6",
   "metadata": {},
   "source": [
    "### 5 categorias com maior número de apps"
   ]
  },
  {
   "cell_type": "code",
   "execution_count": null,
   "id": "0a89d481",
   "metadata": {},
   "outputs": [],
   "source": [
    "# Conta número de apps por categoria\n",
    "apps_por_categoria = df['Category'].value_counts()\n",
    "cinco_categorias_mais_apps = apps_por_categoria.head(5)\n",
    "\n",
    "# Imprime resultados\n",
    "print(\"5 categorias com mais apps:\")\n",
    "print(cinco_categorias_mais_apps.head(5))"
   ]
  },
  {
   "cell_type": "code",
   "execution_count": null,
   "id": "5b32d90f",
   "metadata": {},
   "outputs": [],
   "source": [
    "# Cria gráfico de barras\n",
    "plt.figure(figsize=(8, 5))\n",
    "cinco_categorias_mais_apps.plot(kind='bar', color='skyblue')\n",
    "\n",
    "plt.title('5 Categorias com Mais Aplicativos')\n",
    "plt.ylabel('Quantidade de Apps')\n",
    "plt.xlabel('Categoria')\n",
    "plt.xticks(rotation=0)\n",
    "\n",
    "# Adiciona valores em cima das barras\n",
    "for i, valor in enumerate(cinco_categorias_mais_apps.values):\n",
    "    plt.text(i, valor + 2, str(valor), ha='center', va='bottom', fontsize=10, fontweight='bold')\n",
    "\n",
    "plt.tight_layout()\n",
    "plt.show()"
   ]
  },
  {
   "cell_type": "markdown",
   "id": "02088732",
   "metadata": {},
   "source": [
    "## Etapa 3"
   ]
  },
  {
   "cell_type": "code",
   "execution_count": null,
   "id": "4aa31e5a",
   "metadata": {},
   "outputs": [],
   "source": [
    "# Cria uma conexão com o banco de dados SQLite\n",
    "engine = create_engine('sqlite:///apps_google_play.db')\n",
    "\n",
    "# Salva o DataFrame\n",
    "df.to_sql('apps', con=engine, if_exists='replace', index=False)"
   ]
  },
  {
   "cell_type": "markdown",
   "id": "90fe477f",
   "metadata": {},
   "source": [
    "### Nome e a categoria dos 10 apps mais instalados."
   ]
  },
  {
   "cell_type": "code",
   "execution_count": null,
   "id": "dcea0c34",
   "metadata": {},
   "outputs": [],
   "source": [
    "query_a = \"\"\"\n",
    "SELECT App, Category\n",
    "FROM apps\n",
    "ORDER BY Installs DESC\n",
    "LIMIT 10\n",
    "\"\"\"\n",
    "resultado = pd.read_sql_query(query_a, con=engine)\n",
    "print(resultado)\n"
   ]
  },
  {
   "cell_type": "markdown",
   "id": "4b9f8fe3",
   "metadata": {},
   "source": [
    "### Nome dos apps classificados como Mature 17+"
   ]
  },
  {
   "cell_type": "code",
   "execution_count": null,
   "id": "5c215839",
   "metadata": {},
   "outputs": [],
   "source": [
    "# Consulta os apps com classificação 'Mature 17+'\n",
    "query = \"\"\"\n",
    "SELECT App\n",
    "FROM apps\n",
    "WHERE `Content Rating` = 'Mature 17+'\n",
    "\"\"\"\n",
    "\n",
    "# Executa a consulta e carrega o resultado em um DataFrame\n",
    "resultado = pd.read_sql_query(query, engine)\n",
    "\n",
    "# Exibir os resultados\n",
    "print(resultado) "
   ]
  },
  {
   "cell_type": "markdown",
   "id": "a03ef158",
   "metadata": {},
   "source": [
    "### Número médio de reviews por categoria"
   ]
  },
  {
   "cell_type": "code",
   "execution_count": null,
   "id": "c87c44df",
   "metadata": {},
   "outputs": [],
   "source": [
    "# Consulta a média de avaliações por categoria\n",
    "query = \"\"\"\n",
    "SELECT Category, AVG(Reviews) AS media_reviews\n",
    "FROM apps\n",
    "GROUP BY Category\n",
    "ORDER BY media_reviews DESC\n",
    "\"\"\"\n",
    "# Exibir os resultados\n",
    "resultado = pd.read_sql_query(query, con=engine)\n",
    "print(resultado)\n",
    "\n",
    "# Gráfico de barras com a média de avaliações por categoria\n",
    "plt.figure(figsize=(12, 6))\n",
    "plt.bar(resultado['Category'], resultado['media_reviews'], color='skyblue')\n",
    "plt.xticks(rotation=90)  # Rotaciona os rótulos do eixo X para melhor leitura\n",
    "plt.xlabel('Categoria')\n",
    "plt.ylabel('Média de Avaliações')\n",
    "plt.title('Média de Avaliações por Categoria de App')\n",
    "plt.tight_layout()\n",
    "plt.show()\n"
   ]
  },
  {
   "cell_type": "markdown",
   "id": "5ea851ad",
   "metadata": {},
   "source": [
    "### Apps com preço maior que 20$"
   ]
  },
  {
   "cell_type": "code",
   "execution_count": null,
   "id": "fec27d40",
   "metadata": {},
   "outputs": [],
   "source": [
    "# Consulta apps com preço acima de 20, em ordem decrescente\n",
    "query_d = \"\"\"\n",
    "SELECT App, Price\n",
    "FROM apps\n",
    "WHERE Price > 20\n",
    "ORDER BY Price DESC\n",
    "\"\"\"\n",
    "resultado = pd.read_sql_query(query_d, con=engine)\n",
    "print(resultado)\n",
    "\n",
    "# Ordena por preço crescente e remove caracteres não-ASCII dos nomes dos apps\n",
    "resultado = resultado.sort_values(by='Price', ascending=True)\n",
    "resultado['App'] = resultado['App'].str.encode('ascii', 'ignore').str.decode('ascii')\n",
    "\n",
    "# Cria gráfico de barras horizontais\n",
    "plt.figure(figsize=(10, 8))\n",
    "plt.barh(resultado['App'], resultado['Price'], color='orange')\n",
    "plt.xlabel('Preço')\n",
    "plt.title('Apps com Preço Acima de 20$')\n",
    "plt.tight_layout()\n",
    "plt.show()\n"
   ]
  }
 ],
 "metadata": {
  "kernelspec": {
   "display_name": "Python 3",
   "language": "python",
   "name": "python3"
  },
  "language_info": {
   "codemirror_mode": {
    "name": "ipython",
    "version": 3
   },
   "file_extension": ".py",
   "mimetype": "text/x-python",
   "name": "python",
   "nbconvert_exporter": "python",
   "pygments_lexer": "ipython3",
   "version": "3.12.4"
  }
 },
 "nbformat": 4,
 "nbformat_minor": 5
}
