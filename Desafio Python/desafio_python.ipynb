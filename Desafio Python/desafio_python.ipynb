{
 "cells": [
  {
   "cell_type": "markdown",
   "id": "53f11551",
   "metadata": {},
   "source": [
    "# Desafio Python"
   ]
  },
  {
   "cell_type": "markdown",
   "id": "8795f0c2",
   "metadata": {},
   "source": [
    "### Importação das bibliotecas"
   ]
  },
  {
   "cell_type": "code",
   "execution_count": null,
   "id": "1595529d",
   "metadata": {},
   "outputs": [],
   "source": [
    "import pandas as pd\n",
    "import matplotlib.pyplot as plt\n",
    "from sqlalchemy import create_engine"
   ]
  },
  {
   "cell_type": "code",
   "execution_count": null,
   "id": "a472e833",
   "metadata": {},
   "outputs": [],
   "source": [
    "df = pd.read_csv('googleplaystore.csv')\n",
    "df = df.drop_duplicates()\n",
    "\n",
    "df['Installs'] = df['Installs'].astype(str).str.replace(',', '').str.replace('+', '')\n",
    "df['Installs'] = pd.to_numeric(df['Installs'], errors='coerce')\n",
    "df = df.dropna(subset=['Installs'])"
   ]
  },
  {
   "cell_type": "code",
   "execution_count": null,
   "id": "bf081081",
   "metadata": {},
   "outputs": [],
   "source": [
    "cinco_apps_mais_instalados = df[['App', 'Installs']].sort_values(by='Installs', ascending=False).head(5)\n",
    "\n",
    "plt.figure(figsize=(10,6))\n",
    "plt.bar(cinco_apps_mais_instalados['App'], cinco_apps_mais_instalados['Installs'], color='skyblue')\n",
    "\n",
    "plt.title('5 Aplicativos Mais Instalados')\n",
    "plt.xlabel('Aplicativo')\n",
    "plt.ylabel('Número de Instalações')\n",
    "\n",
    "plt.tight_layout()\n",
    "plt.show()"
   ]
  },
  {
   "cell_type": "code",
   "execution_count": null,
   "id": "cce79203",
   "metadata": {},
   "outputs": [],
   "source": [
    "category_counts = df['Category'].value_counts()\n",
    "plt.figure(figsize=(35, 35))\n",
    "plt.pie(category_counts, labels=category_counts.index, autopct='%1.1f%%', startangle=140)\n",
    "plt.title('Distribuição de Categorias de Aplicativos')\n",
    "plt.axis('equal')  \n",
    "plt.tight_layout()\n",
    "plt.show()"
   ]
  },
  {
   "cell_type": "code",
   "execution_count": null,
   "id": "7ed5e4af",
   "metadata": {},
   "outputs": [],
   "source": [
    "# ??????????\n",
    "df['Price'] = df['Price'].astype(str).str.replace('$', '')\n",
    "df['Price'] = pd.to_numeric(df['Price'], errors='coerce')\n",
    "\n",
    "# Encontra o app mais caro\n",
    "app_mais_caro = df[['App', 'Price']].loc[df['Price'].idxmax()]\n",
    "\n",
    "# Imprime resultados\n",
    "print(f\"Nome: {app_mais_caro['App']}\")\n",
    "print(f\"Preço: {app_mais_caro['Price']}$\")"
   ]
  },
  {
   "cell_type": "code",
   "execution_count": null,
   "id": "fa0e891a",
   "metadata": {},
   "outputs": [],
   "source": [
    "# Garante que a coluna 'Reviews' é numérica\n",
    "df['Reviews'] = pd.to_numeric(df['Reviews'], errors='coerce')\n",
    "\n",
    "# Remove apps duplicados\n",
    "df_sem_duplicados = df.sort_values(by='Reviews', ascending=False).drop_duplicates(subset='App', keep='first')\n",
    "\n",
    "# Seleciona os 10 apps com mais reviews\n",
    "top10_reviews = df_sem_duplicados[['App', 'Reviews']].sort_values(by='Reviews', ascending=False).head(10)\n",
    "\n",
    "# Imprime resultados\n",
    "for i, row in top10_reviews.iterrows():\n",
    "    print(f\"Nome: {row['App']} | Número de reviews: {int(row['Reviews']):,} \\n\")"
   ]
  },
  {
   "cell_type": "markdown",
   "id": "16fd72ab",
   "metadata": {},
   "source": [
    "### Média de preço dos apps pagos"
   ]
  },
  {
   "cell_type": "code",
   "execution_count": null,
   "id": "eced98d8",
   "metadata": {},
   "outputs": [],
   "source": [
    "apps_pagos = df[df['Type'] == 'Paid']\n",
    "media_preco = apps_pagos['Price'].mean()\n",
    "print(f\"Média de preço dos apps pagos: ${media_preco:.2f}\")"
   ]
  },
  {
   "cell_type": "code",
   "execution_count": null,
   "id": "9fa7050d",
   "metadata": {},
   "outputs": [],
   "source": [
    "plt.figure(figsize=(10, 1.5))\n",
    "plt.barh(['Média de Preço'], [media_preco], color='skyblue')\n",
    "plt.xlim(0, apps_pagos['Price'].max() + 5)\n",
    "plt.title('Média de Preço dos Apps Pagos')\n",
    "plt.xlabel('Preço ($)')\n",
    "\n",
    "# Adiciona o valor da média como texto na barra\n",
    "plt.text(media_preco + 0.2, 0, f\"${media_preco:.2f}\", va='center', fontsize=8, fontweight='bold')\n",
    "\n",
    "plt.tight_layout()\n",
    "plt.show()"
   ]
  },
  {
   "cell_type": "markdown",
   "id": "86c74cf6",
   "metadata": {},
   "source": [
    "### 5 categorias com maior número de apps"
   ]
  },
  {
   "cell_type": "code",
   "execution_count": null,
   "id": "0a89d481",
   "metadata": {},
   "outputs": [],
   "source": [
    "# Conta número de apps por categoria\n",
    "apps_por_categoria = df['Category'].value_counts()\n",
    "cinco_categorias_mais_apps = apps_por_categoria.head(5)\n",
    "\n",
    "# Imprime resultados\n",
    "print(\"5 categorias com mais apps:\")\n",
    "print(cinco_categorias_mais_apps.head(5))"
   ]
  },
  {
   "cell_type": "code",
   "execution_count": null,
   "id": "5b32d90f",
   "metadata": {},
   "outputs": [],
   "source": [
    "# Cria gráfico de barras\n",
    "plt.figure(figsize=(8, 5))\n",
    "cinco_categorias_mais_apps.plot(kind='bar', color='skyblue')\n",
    "\n",
    "plt.title('5 Categorias com Mais Aplicativos')\n",
    "plt.ylabel('Quantidade de Apps')\n",
    "plt.xlabel('Categoria')\n",
    "plt.xticks(rotation=0)\n",
    "\n",
    "# Adiciona valores em cima das barras\n",
    "for i, valor in enumerate(cinco_categorias_mais_apps.values):\n",
    "    plt.text(i, valor + 2, str(valor), ha='center', va='bottom', fontsize=10, fontweight='bold')\n",
    "\n",
    "plt.tight_layout()\n",
    "plt.show()"
   ]
  },
  {
   "cell_type": "markdown",
   "id": "cefef738",
   "metadata": {},
   "source": []
  },
  {
   "cell_type": "code",
   "execution_count": null,
   "id": "4aa31e5a",
   "metadata": {},
   "outputs": [],
   "source": [
    "engine = create_engine('sqlite:///apps_google_play.db')\n",
    "\n",
    "# Salvar DataFrame no banco (substituir se já existir)\n",
    "df.to_sql('apps', con=engine, if_exists='replace', index=False)\n",
    "\n",
    "print(\"Tabela 'apps' criada com sucesso usando SQLAlchemy.\")"
   ]
  },
  {
   "cell_type": "markdown",
   "id": "90fe477f",
   "metadata": {},
   "source": [
    "### a) nome e a categoria dos 10 apps mais instalados."
   ]
  },
  {
   "cell_type": "code",
   "execution_count": 89,
   "id": "dcea0c34",
   "metadata": {},
   "outputs": [
    {
     "name": "stdout",
     "output_type": "stream",
     "text": [
      "                                        App             Category\n",
      "0                         Google Play Books  BOOKS_AND_REFERENCE\n",
      "1  Messenger – Text and Video Chat for Free        COMMUNICATION\n",
      "2                        WhatsApp Messenger        COMMUNICATION\n",
      "3              Google Chrome: Fast & Secure        COMMUNICATION\n",
      "4                                     Gmail        COMMUNICATION\n",
      "5                                  Hangouts        COMMUNICATION\n",
      "6  Messenger – Text and Video Chat for Free        COMMUNICATION\n",
      "7                                  Hangouts        COMMUNICATION\n",
      "8             Skype - free IM & video calls        COMMUNICATION\n",
      "9              Google Chrome: Fast & Secure        COMMUNICATION\n"
     ]
    }
   ],
   "source": [
    "query_a = \"\"\"\n",
    "SELECT App, Category\n",
    "FROM apps\n",
    "ORDER BY Installs DESC\n",
    "LIMIT 10\n",
    "\"\"\"\n",
    "result_a = pd.read_sql_query(query_a, con=engine)\n",
    "print(result_a)"
   ]
  },
  {
   "cell_type": "markdown",
   "id": "4b9f8fe3",
   "metadata": {},
   "source": [
    "### b) Nome dos apps classificados como 'Mature 17+"
   ]
  },
  {
   "cell_type": "code",
   "execution_count": null,
   "id": "5c215839",
   "metadata": {},
   "outputs": [],
   "source": [
    "query_b = \"\"\"\n",
    "SELECT COUNT(*)\n",
    "FROM apps\n",
    "WHERE \"Content Rating\" = 'Mature 17+'\n",
    "\"\"\"\n",
    "resultado_check = pd.read_sql_query(query_b, engine)\n",
    "print(\"Total apps 'Mature 17+':\", resultado_check.iloc[0, 0])"
   ]
  },
  {
   "cell_type": "markdown",
   "id": "a03ef158",
   "metadata": {},
   "source": [
    "### c) Média de reviews por categoria"
   ]
  },
  {
   "cell_type": "code",
   "execution_count": 94,
   "id": "c87c44df",
   "metadata": {},
   "outputs": [
    {
     "name": "stdout",
     "output_type": "stream",
     "text": [
      "               Category  media_reviews\n",
      "0                SOCIAL   1.905632e+06\n",
      "1         COMMUNICATION   1.642824e+06\n",
      "2                  GAME   1.262745e+06\n",
      "3           PHOTOGRAPHY   6.344640e+05\n",
      "4         VIDEO_PLAYERS   6.307439e+05\n",
      "5         ENTERTAINMENT   4.285650e+05\n",
      "6              SHOPPING   4.237998e+05\n",
      "7                 TOOLS   3.240629e+05\n",
      "8          PRODUCTIVITY   2.519767e+05\n",
      "9      TRAVEL_AND_LOCAL   2.344522e+05\n",
      "10  MAPS_AND_NAVIGATION   2.237902e+05\n",
      "11               FAMILY   2.042059e+05\n",
      "12      PERSONALIZATION   1.937968e+05\n",
      "13               SPORTS   1.861046e+05\n",
      "14            EDUCATION   1.781962e+05\n",
      "15              WEATHER   1.781065e+05\n",
      "16   NEWS_AND_MAGAZINES   1.448707e+05\n",
      "17   HEALTH_AND_FITNESS   1.008013e+05\n",
      "18  BOOKS_AND_REFERENCE   9.510099e+04\n",
      "19       FOOD_AND_DRINK   6.186755e+04\n",
      "20               COMICS   5.638793e+04\n",
      "21              FINANCE   4.722192e+04\n",
      "22       HOUSE_AND_HOME   3.493465e+04\n",
      "23            LIFESTYLE   3.437151e+04\n",
      "24             BUSINESS   2.894185e+04\n",
      "25               DATING   2.829284e+04\n",
      "26       ART_AND_DESIGN   2.637600e+04\n",
      "27            PARENTING   1.597218e+04\n",
      "28    AUTO_AND_VEHICLES   1.369019e+04\n",
      "29   LIBRARIES_AND_DEMO   1.220139e+04\n",
      "30               BEAUTY   7.476226e+03\n",
      "31              MEDICAL   3.423424e+03\n",
      "32               EVENTS   2.515906e+03\n"
     ]
    }
   ],
   "source": [
    "query_c = \"\"\"\n",
    "SELECT Category, AVG(Reviews) AS media_reviews\n",
    "FROM apps\n",
    "GROUP BY Category\n",
    "ORDER BY media_reviews DESC\n",
    "\"\"\"\n",
    "result_c = pd.read_sql_query(query_c, con=engine)\n",
    "print(result_c)"
   ]
  },
  {
   "cell_type": "markdown",
   "id": "5ea851ad",
   "metadata": {},
   "source": [
    "### d) Apps com preço maior que 20:"
   ]
  },
  {
   "cell_type": "code",
   "execution_count": 88,
   "id": "fec27d40",
   "metadata": {},
   "outputs": [
    {
     "name": "stdout",
     "output_type": "stream",
     "text": [
      "                                                  App   Price\n",
      "0                            I'm Rich - Trump Edition  400.00\n",
      "1                              most expensive app (H)  399.99\n",
      "2                                          💎 I'm rich  399.99\n",
      "3                                           I am rich  399.99\n",
      "4                                      I am Rich Plus  399.99\n",
      "5                                   I Am Rich Premium  399.99\n",
      "6                                          I am Rich!  399.99\n",
      "7                                  I am rich(premium)  399.99\n",
      "8                                       I Am Rich Pro  399.99\n",
      "9                      I am rich (Most expensive app)  399.99\n",
      "10                                          I am Rich  399.99\n",
      "11                                 I AM RICH PRO PLUS  399.99\n",
      "12                  I'm Rich/Eu sou Rico/أنا غني/我很有錢  399.99\n",
      "13                                        Eu Sou Rico  394.99\n",
      "14                                          I Am Rich  389.99\n",
      "15                                I am extremely Rich  379.99\n",
      "16                                      I am rich VIP  299.99\n",
      "17                                       EP Cook Book  200.00\n",
      "18                                      cronometra-br  154.99\n",
      "19                            BP Fitness Lead Scanner  109.99\n",
      "20                                            Lean EQ   89.99\n",
      "21                          Vargo Anesthesia Mega App   79.99\n",
      "22                          Language Therapy: Aphasia   74.99\n",
      "23                          Dr.Dice - Sic bo analyzer   46.99\n",
      "24                                       LTC AS Legal   39.99\n",
      "25                      Norwegian For Kids & Babies F   39.99\n",
      "26                                   I am Rich Person   37.99\n",
      "27                            A Manual of Acupuncture   33.99\n",
      "28                                        Eu sou Rico   30.99\n",
      "29                                           EMT PASS   29.99\n",
      "30                                 PTA Content Master   29.99\n",
      "31                            Golfshot Plus: Golf GPS   29.99\n",
      "32                          AP Art History Flashcards   29.99\n",
      "33                                  Guide to Nikon Df   29.99\n",
      "34                                           Dz kayas   28.99\n",
      "35                                    G-NetReport Pro   25.99\n",
      "36   Human Anatomy Atlas 2018: Complete 3D Human Body   24.99\n",
      "37  Muscle Premium - Human Anatomy, Kinesiology, B...   24.99\n",
      "38                     Advanced Comprehension Therapy   24.99\n",
      "39   Human Anatomy Atlas 2018: Complete 3D Human Body   24.99\n"
     ]
    }
   ],
   "source": [
    "query_d = \"\"\"\n",
    "SELECT App, Price\n",
    "FROM apps\n",
    "WHERE Price > 20\n",
    "ORDER BY Price DESC\n",
    "\"\"\"\n",
    "result_d = pd.read_sql_query(query_d, con=engine)\n",
    "print(result_d)\n"
   ]
  }
 ],
 "metadata": {
  "kernelspec": {
   "display_name": "Python 3",
   "language": "python",
   "name": "python3"
  },
  "language_info": {
   "codemirror_mode": {
    "name": "ipython",
    "version": 3
   },
   "file_extension": ".py",
   "mimetype": "text/x-python",
   "name": "python",
   "nbconvert_exporter": "python",
   "pygments_lexer": "ipython3",
   "version": "3.13.3"
  }
 },
 "nbformat": 4,
 "nbformat_minor": 5
}
